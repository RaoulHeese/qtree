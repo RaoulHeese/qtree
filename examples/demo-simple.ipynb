{
 "cells": [
  {
   "cell_type": "markdown",
   "id": "61919efe",
   "metadata": {},
   "source": [
    "# Example: QTree for simple test data set"
   ]
  },
  {
   "cell_type": "markdown",
   "id": "f6453deb",
   "metadata": {},
   "source": [
    "### Load training data"
   ]
  },
  {
   "cell_type": "code",
   "execution_count": 7,
   "id": "8747ec90",
   "metadata": {},
   "outputs": [
    {
     "name": "stdout",
     "output_type": "stream",
     "text": [
      "X: (5, 7), y: (5, 1)\n"
     ]
    }
   ],
   "source": [
    "from qtree.data import BDS_test\n",
    "\n",
    "data = BDS_test()\n",
    "print(data)"
   ]
  },
  {
   "cell_type": "markdown",
   "id": "e6bc4f14",
   "metadata": {},
   "source": [
    "### Define QTree instance"
   ]
  },
  {
   "cell_type": "code",
   "execution_count": 8,
   "id": "510eeb0f",
   "metadata": {},
   "outputs": [],
   "source": [
    "from qtree.qtree import QTree\n",
    "\n",
    "qtree = QTree(max_depth=1, random_state=42)"
   ]
  },
  {
   "cell_type": "markdown",
   "id": "b24e2ba5",
   "metadata": {},
   "source": [
    "### Grow QTree using an evolutionary algorithm"
   ]
  },
  {
   "cell_type": "code",
   "execution_count": 9,
   "id": "3f64debd",
   "metadata": {},
   "outputs": [
    {
     "data": {
      "text/html": [
       "<style>#sk-container-id-1 {color: black;}#sk-container-id-1 pre{padding: 0;}#sk-container-id-1 div.sk-toggleable {background-color: white;}#sk-container-id-1 label.sk-toggleable__label {cursor: pointer;display: block;width: 100%;margin-bottom: 0;padding: 0.3em;box-sizing: border-box;text-align: center;}#sk-container-id-1 label.sk-toggleable__label-arrow:before {content: \"▸\";float: left;margin-right: 0.25em;color: #696969;}#sk-container-id-1 label.sk-toggleable__label-arrow:hover:before {color: black;}#sk-container-id-1 div.sk-estimator:hover label.sk-toggleable__label-arrow:before {color: black;}#sk-container-id-1 div.sk-toggleable__content {max-height: 0;max-width: 0;overflow: hidden;text-align: left;background-color: #f0f8ff;}#sk-container-id-1 div.sk-toggleable__content pre {margin: 0.2em;color: black;border-radius: 0.25em;background-color: #f0f8ff;}#sk-container-id-1 input.sk-toggleable__control:checked~div.sk-toggleable__content {max-height: 200px;max-width: 100%;overflow: auto;}#sk-container-id-1 input.sk-toggleable__control:checked~label.sk-toggleable__label-arrow:before {content: \"▾\";}#sk-container-id-1 div.sk-estimator input.sk-toggleable__control:checked~label.sk-toggleable__label {background-color: #d4ebff;}#sk-container-id-1 div.sk-label input.sk-toggleable__control:checked~label.sk-toggleable__label {background-color: #d4ebff;}#sk-container-id-1 input.sk-hidden--visually {border: 0;clip: rect(1px 1px 1px 1px);clip: rect(1px, 1px, 1px, 1px);height: 1px;margin: -1px;overflow: hidden;padding: 0;position: absolute;width: 1px;}#sk-container-id-1 div.sk-estimator {font-family: monospace;background-color: #f0f8ff;border: 1px dotted black;border-radius: 0.25em;box-sizing: border-box;margin-bottom: 0.5em;}#sk-container-id-1 div.sk-estimator:hover {background-color: #d4ebff;}#sk-container-id-1 div.sk-parallel-item::after {content: \"\";width: 100%;border-bottom: 1px solid gray;flex-grow: 1;}#sk-container-id-1 div.sk-label:hover label.sk-toggleable__label {background-color: #d4ebff;}#sk-container-id-1 div.sk-serial::before {content: \"\";position: absolute;border-left: 1px solid gray;box-sizing: border-box;top: 0;bottom: 0;left: 50%;z-index: 0;}#sk-container-id-1 div.sk-serial {display: flex;flex-direction: column;align-items: center;background-color: white;padding-right: 0.2em;padding-left: 0.2em;position: relative;}#sk-container-id-1 div.sk-item {position: relative;z-index: 1;}#sk-container-id-1 div.sk-parallel {display: flex;align-items: stretch;justify-content: center;background-color: white;position: relative;}#sk-container-id-1 div.sk-item::before, #sk-container-id-1 div.sk-parallel-item::before {content: \"\";position: absolute;border-left: 1px solid gray;box-sizing: border-box;top: 0;bottom: 0;left: 50%;z-index: -1;}#sk-container-id-1 div.sk-parallel-item {display: flex;flex-direction: column;z-index: 1;position: relative;background-color: white;}#sk-container-id-1 div.sk-parallel-item:first-child::after {align-self: flex-end;width: 50%;}#sk-container-id-1 div.sk-parallel-item:last-child::after {align-self: flex-start;width: 50%;}#sk-container-id-1 div.sk-parallel-item:only-child::after {width: 0;}#sk-container-id-1 div.sk-dashed-wrapped {border: 1px dashed gray;margin: 0 0.4em 0.5em 0.4em;box-sizing: border-box;padding-bottom: 0.4em;background-color: white;}#sk-container-id-1 div.sk-label label {font-family: monospace;font-weight: bold;display: inline-block;line-height: 1.2em;}#sk-container-id-1 div.sk-label-container {text-align: center;}#sk-container-id-1 div.sk-container {/* jupyter's `normalize.less` sets `[hidden] { display: none; }` but bootstrap.min.css set `[hidden] { display: none !important; }` so we also need the `!important` here to be able to override the default hidden behavior on the sphinx rendered scikit-learn.org. See: https://github.com/scikit-learn/scikit-learn/issues/21755 */display: inline-block !important;position: relative;}#sk-container-id-1 div.sk-text-repr-fallback {display: none;}</style><div id=\"sk-container-id-1\" class=\"sk-top-container\"><div class=\"sk-text-repr-fallback\"><pre>QTree(acc_func=&lt;function QTree.acc_func_acc_balanced at 0x0000021815288CC0&gt;,\n",
       "      dist_func=&lt;function QTree.dist_func_proba_dist_norm at 0x0000021815288C20&gt;,\n",
       "      max_depth=1, quantum_backend=AerSimulator(&#x27;aer_simulator&#x27;),\n",
       "      random_state=42,\n",
       "      score_func=&lt;function QTree.score_func_entropy at 0x0000021815288B80&gt;)</pre><b>In a Jupyter environment, please rerun this cell to show the HTML representation or trust the notebook. <br />On GitHub, the HTML representation is unable to render, please try loading this page with nbviewer.org.</b></div><div class=\"sk-container\" hidden><div class=\"sk-item\"><div class=\"sk-estimator sk-toggleable\"><input class=\"sk-toggleable__control sk-hidden--visually\" id=\"sk-estimator-id-1\" type=\"checkbox\" checked><label for=\"sk-estimator-id-1\" class=\"sk-toggleable__label sk-toggleable__label-arrow\">QTree</label><div class=\"sk-toggleable__content\"><pre>QTree(acc_func=&lt;function QTree.acc_func_acc_balanced at 0x0000021815288CC0&gt;,\n",
       "      dist_func=&lt;function QTree.dist_func_proba_dist_norm at 0x0000021815288C20&gt;,\n",
       "      max_depth=1, quantum_backend=AerSimulator(&#x27;aer_simulator&#x27;),\n",
       "      random_state=42,\n",
       "      score_func=&lt;function QTree.score_func_entropy at 0x0000021815288B80&gt;)</pre></div></div></div></div></div>"
      ],
      "text/plain": [
       "QTree(acc_func=<function QTree.acc_func_acc_balanced at 0x0000021815288CC0>,\n",
       "      dist_func=<function QTree.dist_func_proba_dist_norm at 0x0000021815288C20>,\n",
       "      max_depth=1, quantum_backend=AerSimulator('aer_simulator'),\n",
       "      random_state=42,\n",
       "      score_func=<function QTree.score_func_entropy at 0x0000021815288B80>)"
      ]
     },
     "execution_count": 9,
     "metadata": {},
     "output_type": "execute_result"
    }
   ],
   "source": [
    "qtree.fit(data.X, data.y)"
   ]
  },
  {
   "cell_type": "markdown",
   "id": "3fcd3a29",
   "metadata": {},
   "source": [
    "### Draw resulting quantum circuit representation"
   ]
  },
  {
   "cell_type": "code",
   "execution_count": 10,
   "id": "1682268e",
   "metadata": {},
   "outputs": [
    {
     "data": {
      "text/html": [
       "<pre style=\"word-wrap: normal;white-space: pre;background: #fff0;line-height: 1.1;font-family: &quot;Courier New&quot;,Courier,monospace\">     »\n",
       "q_0: »\n",
       "     »\n",
       "q_1: »\n",
       "     »\n",
       "q_2: »\n",
       "     »\n",
       "q_3: »\n",
       "     »\n",
       "c: 8/»\n",
       "     »\n",
       "«     ┌────────────────────────────────────────────────────────────────────────────┐»\n",
       "«q_0: ┤0                                                                           ├»\n",
       "«     │                                                                            │»\n",
       "«q_1: ┤1                                                                           ├»\n",
       "«     │  Initialize(0.44721,0,0,0.44721,0,0,0.44721,0,0,0,0,0,0.44721,0,0,0.44721) │»\n",
       "«q_2: ┤2                                                                           ├»\n",
       "«     │                                                                            │»\n",
       "«q_3: ┤3                                                                           ├»\n",
       "«     └────────────────────────────────────────────────────────────────────────────┘»\n",
       "«c: 8/══════════════════════════════════════════════════════════════════════════════»\n",
       "«                                                                                   »\n",
       "«        ┌───┐┌──────────┐┌───┐┌─┐\n",
       "«q_0: ─X─┤ X ├┤0         ├┤ X ├┤M├\n",
       "«      │ └───┘│          │└┬─┬┘└╥┘\n",
       "«q_1: ─┼──────┤1 Unitary ├─┤M├──╫─\n",
       "«      │      │          │ └╥┘  ║ \n",
       "«q_2: ─X──────┤2         ├──╫───╫─\n",
       "«     ┌─┐     └──────────┘  ║   ║ \n",
       "«q_3: ┤M├───────────────────╫───╫─\n",
       "«     └╥┘                   ║   ║ \n",
       "«c: 8/═╩════════════════════╩═══╩═\n",
       "«      7                    1   0 </pre>"
      ],
      "text/plain": [
       "     »\n",
       "q_0: »\n",
       "     »\n",
       "q_1: »\n",
       "     »\n",
       "q_2: »\n",
       "     »\n",
       "q_3: »\n",
       "     »\n",
       "c: 8/»\n",
       "     »\n",
       "«     ┌────────────────────────────────────────────────────────────────────────────┐»\n",
       "«q_0: ┤0                                                                           ├»\n",
       "«     │                                                                            │»\n",
       "«q_1: ┤1                                                                           ├»\n",
       "«     │  Initialize(0.44721,0,0,0.44721,0,0,0.44721,0,0,0,0,0,0.44721,0,0,0.44721) │»\n",
       "«q_2: ┤2                                                                           ├»\n",
       "«     │                                                                            │»\n",
       "«q_3: ┤3                                                                           ├»\n",
       "«     └────────────────────────────────────────────────────────────────────────────┘»\n",
       "«c: 8/══════════════════════════════════════════════════════════════════════════════»\n",
       "«                                                                                   »\n",
       "«        ┌───┐┌──────────┐┌───┐┌─┐\n",
       "«q_0: ─X─┤ X ├┤0         ├┤ X ├┤M├\n",
       "«      │ └───┘│          │└┬─┬┘└╥┘\n",
       "«q_1: ─┼──────┤1 Unitary ├─┤M├──╫─\n",
       "«      │      │          │ └╥┘  ║ \n",
       "«q_2: ─X──────┤2         ├──╫───╫─\n",
       "«     ┌─┐     └──────────┘  ║   ║ \n",
       "«q_3: ┤M├───────────────────╫───╫─\n",
       "«     └╥┘                   ║   ║ \n",
       "«c: 8/═╩════════════════════╩═══╩═\n",
       "«      7                    1   0 "
      ]
     },
     "execution_count": 10,
     "metadata": {},
     "output_type": "execute_result"
    }
   ],
   "source": [
    "qtree.qt.draw()"
   ]
  },
  {
   "cell_type": "markdown",
   "id": "4a65643f",
   "metadata": {},
   "source": [
    "### Print resulting classical representation"
   ]
  },
  {
   "cell_type": "code",
   "execution_count": 11,
   "id": "d4523767",
   "metadata": {},
   "outputs": [
    {
     "name": "stdout",
     "output_type": "stream",
     "text": [
      "x[2] = 0\n",
      "\tx[0] = 0\n",
      "\t\ty_0 = 0 (1.000/0.000)\n",
      "\tx[0] = 1\n",
      "\t\ty_0 = 0 (1.000/0.000)\n",
      "x[2] = 1\n",
      "\tx[1] = 0\n",
      "\t\ty_0 = 1 (0.000/1.000)\n",
      "\tx[1] = 1\n",
      "\t\ty_0 = 0 (0.510/0.490)\n",
      "\n"
     ]
    }
   ],
   "source": [
    "print(str(qtree.ct))"
   ]
  },
  {
   "cell_type": "markdown",
   "id": "023a9e35",
   "metadata": {},
   "source": [
    "### Make a predicition based on the classical representation"
   ]
  },
  {
   "cell_type": "code",
   "execution_count": 12,
   "id": "004cfadd",
   "metadata": {},
   "outputs": [
    {
     "name": "stdout",
     "output_type": "stream",
     "text": [
      "[[False]]\n",
      "[[[0.51010101]\n",
      "  [0.48989899]]]\n"
     ]
    }
   ],
   "source": [
    "y_pred = qtree.predict([[1,1,1,0,0,0,0]])\n",
    "print(y_pred)\n",
    "\n",
    "py_pred = qtree.predict_proba([[1,1,1,0,0,0,0]])\n",
    "print(py_pred)"
   ]
  },
  {
   "cell_type": "markdown",
   "id": "9d6bd08b",
   "metadata": {},
   "source": [
    "### Make a query prediction based on the quantum representation"
   ]
  },
  {
   "cell_type": "code",
   "execution_count": 13,
   "id": "b1f9bf39",
   "metadata": {},
   "outputs": [
    {
     "name": "stdout",
     "output_type": "stream",
     "text": [
      "[0.51010101 0.48989899]\n"
     ]
    }
   ],
   "source": [
    "py_qpred = qtree.predict_query({'1110000': 1})\n",
    "print(py_qpred)"
   ]
  },
  {
   "cell_type": "code",
   "execution_count": null,
   "id": "59cc56c2-c4fa-4526-bcef-f555d8a75173",
   "metadata": {},
   "outputs": [],
   "source": []
  }
 ],
 "metadata": {
  "kernelspec": {
   "display_name": "Python 3 (ipykernel)",
   "language": "python",
   "name": "python3"
  },
  "language_info": {
   "codemirror_mode": {
    "name": "ipython",
    "version": 3
   },
   "file_extension": ".py",
   "mimetype": "text/x-python",
   "name": "python",
   "nbconvert_exporter": "python",
   "pygments_lexer": "ipython3",
   "version": "3.11.5"
  }
 },
 "nbformat": 4,
 "nbformat_minor": 5
}
